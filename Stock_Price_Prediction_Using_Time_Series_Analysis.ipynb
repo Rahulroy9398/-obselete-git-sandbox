{
  "cells": [
    {
      "cell_type": "markdown",
      "metadata": {
        "id": "view-in-github",
        "colab_type": "text"
      },
      "source": [
        "<a href=\"https://colab.research.google.com/github/Rahulroy9398/-obselete-git-sandbox/blob/master/Stock_Price_Prediction_Using_Time_Series_Analysis.ipynb\" target=\"_parent\"><img src=\"https://colab.research.google.com/assets/colab-badge.svg\" alt=\"Open In Colab\"/></a>"
      ]
    },
    {
      "cell_type": "markdown",
      "id": "3e858a18",
      "metadata": {
        "id": "3e858a18"
      },
      "source": [
        "# Reading Data from the BajajFinance stock and preparing the training an testing data"
      ]
    },
    {
      "cell_type": "markdown",
      "id": "a63fe5fd",
      "metadata": {
        "id": "a63fe5fd"
      },
      "source": [
        "##importing NumPy and Pandas"
      ]
    },
    {
      "cell_type": "code",
      "execution_count": 1,
      "id": "81c9817a",
      "metadata": {
        "id": "81c9817a"
      },
      "outputs": [],
      "source": [
        "import numpy as np\n",
        "import pandas as pd"
      ]
    },
    {
      "cell_type": "code",
      "execution_count": 2,
      "id": "1d39a59e",
      "metadata": {
        "id": "1d39a59e"
      },
      "outputs": [],
      "source": [
        "data_frame = pd.read_csv('/content/BAJFINANCE.csv')"
      ]
    },
    {
      "cell_type": "markdown",
      "id": "39114eb5",
      "metadata": {
        "id": "39114eb5"
      },
      "source": [
        "checking whether data_frame is assigned"
      ]
    },
    {
      "cell_type": "code",
      "execution_count": 3,
      "id": "54f5db46",
      "metadata": {
        "colab": {
          "base_uri": "https://localhost:8080/",
          "height": 354
        },
        "id": "54f5db46",
        "outputId": "214bffb6-bf27-40e4-afb6-1614397753d3"
      },
      "outputs": [
        {
          "output_type": "execute_result",
          "data": {
            "text/plain": [
              "         Date      Symbol Series  Prev Close   Open   High   Low   Last  \\\n",
              "0  2000-01-03  BAJAUTOFIN     EQ       46.95  49.45  50.75  46.5  50.75   \n",
              "1  2000-01-04  BAJAUTOFIN     EQ       50.75  53.20  53.20  47.9  48.00   \n",
              "2  2000-01-05  BAJAUTOFIN     EQ       48.10  46.55  47.40  44.6  44.60   \n",
              "3  2000-01-06  BAJAUTOFIN     EQ       44.60  43.50  46.00  42.1  46.00   \n",
              "4  2000-01-07  BAJAUTOFIN     EQ       45.25  48.00  48.00  42.0  42.90   \n",
              "\n",
              "   Close   VWAP  Volume      Turnover  Trades  Deliverable Volume  %Deliverble  \n",
              "0  50.75  50.05    7600  3.803800e+10     NaN                 NaN          NaN  \n",
              "1  48.10  48.56    5000  2.428000e+10     NaN                 NaN          NaN  \n",
              "2  44.60  45.47    3500  1.591450e+10     NaN                 NaN          NaN  \n",
              "3  45.25  44.43    6200  2.754750e+10     NaN                 NaN          NaN  \n",
              "4  42.90  44.44    3500  1.555550e+10     NaN                 NaN          NaN  "
            ],
            "text/html": [
              "\n",
              "  <div id=\"df-cfe94478-b4b7-4e9f-9390-40e26940e2cd\">\n",
              "    <div class=\"colab-df-container\">\n",
              "      <div>\n",
              "<style scoped>\n",
              "    .dataframe tbody tr th:only-of-type {\n",
              "        vertical-align: middle;\n",
              "    }\n",
              "\n",
              "    .dataframe tbody tr th {\n",
              "        vertical-align: top;\n",
              "    }\n",
              "\n",
              "    .dataframe thead th {\n",
              "        text-align: right;\n",
              "    }\n",
              "</style>\n",
              "<table border=\"1\" class=\"dataframe\">\n",
              "  <thead>\n",
              "    <tr style=\"text-align: right;\">\n",
              "      <th></th>\n",
              "      <th>Date</th>\n",
              "      <th>Symbol</th>\n",
              "      <th>Series</th>\n",
              "      <th>Prev Close</th>\n",
              "      <th>Open</th>\n",
              "      <th>High</th>\n",
              "      <th>Low</th>\n",
              "      <th>Last</th>\n",
              "      <th>Close</th>\n",
              "      <th>VWAP</th>\n",
              "      <th>Volume</th>\n",
              "      <th>Turnover</th>\n",
              "      <th>Trades</th>\n",
              "      <th>Deliverable Volume</th>\n",
              "      <th>%Deliverble</th>\n",
              "    </tr>\n",
              "  </thead>\n",
              "  <tbody>\n",
              "    <tr>\n",
              "      <th>0</th>\n",
              "      <td>2000-01-03</td>\n",
              "      <td>BAJAUTOFIN</td>\n",
              "      <td>EQ</td>\n",
              "      <td>46.95</td>\n",
              "      <td>49.45</td>\n",
              "      <td>50.75</td>\n",
              "      <td>46.5</td>\n",
              "      <td>50.75</td>\n",
              "      <td>50.75</td>\n",
              "      <td>50.05</td>\n",
              "      <td>7600</td>\n",
              "      <td>3.803800e+10</td>\n",
              "      <td>NaN</td>\n",
              "      <td>NaN</td>\n",
              "      <td>NaN</td>\n",
              "    </tr>\n",
              "    <tr>\n",
              "      <th>1</th>\n",
              "      <td>2000-01-04</td>\n",
              "      <td>BAJAUTOFIN</td>\n",
              "      <td>EQ</td>\n",
              "      <td>50.75</td>\n",
              "      <td>53.20</td>\n",
              "      <td>53.20</td>\n",
              "      <td>47.9</td>\n",
              "      <td>48.00</td>\n",
              "      <td>48.10</td>\n",
              "      <td>48.56</td>\n",
              "      <td>5000</td>\n",
              "      <td>2.428000e+10</td>\n",
              "      <td>NaN</td>\n",
              "      <td>NaN</td>\n",
              "      <td>NaN</td>\n",
              "    </tr>\n",
              "    <tr>\n",
              "      <th>2</th>\n",
              "      <td>2000-01-05</td>\n",
              "      <td>BAJAUTOFIN</td>\n",
              "      <td>EQ</td>\n",
              "      <td>48.10</td>\n",
              "      <td>46.55</td>\n",
              "      <td>47.40</td>\n",
              "      <td>44.6</td>\n",
              "      <td>44.60</td>\n",
              "      <td>44.60</td>\n",
              "      <td>45.47</td>\n",
              "      <td>3500</td>\n",
              "      <td>1.591450e+10</td>\n",
              "      <td>NaN</td>\n",
              "      <td>NaN</td>\n",
              "      <td>NaN</td>\n",
              "    </tr>\n",
              "    <tr>\n",
              "      <th>3</th>\n",
              "      <td>2000-01-06</td>\n",
              "      <td>BAJAUTOFIN</td>\n",
              "      <td>EQ</td>\n",
              "      <td>44.60</td>\n",
              "      <td>43.50</td>\n",
              "      <td>46.00</td>\n",
              "      <td>42.1</td>\n",
              "      <td>46.00</td>\n",
              "      <td>45.25</td>\n",
              "      <td>44.43</td>\n",
              "      <td>6200</td>\n",
              "      <td>2.754750e+10</td>\n",
              "      <td>NaN</td>\n",
              "      <td>NaN</td>\n",
              "      <td>NaN</td>\n",
              "    </tr>\n",
              "    <tr>\n",
              "      <th>4</th>\n",
              "      <td>2000-01-07</td>\n",
              "      <td>BAJAUTOFIN</td>\n",
              "      <td>EQ</td>\n",
              "      <td>45.25</td>\n",
              "      <td>48.00</td>\n",
              "      <td>48.00</td>\n",
              "      <td>42.0</td>\n",
              "      <td>42.90</td>\n",
              "      <td>42.90</td>\n",
              "      <td>44.44</td>\n",
              "      <td>3500</td>\n",
              "      <td>1.555550e+10</td>\n",
              "      <td>NaN</td>\n",
              "      <td>NaN</td>\n",
              "      <td>NaN</td>\n",
              "    </tr>\n",
              "  </tbody>\n",
              "</table>\n",
              "</div>\n",
              "      <button class=\"colab-df-convert\" onclick=\"convertToInteractive('df-cfe94478-b4b7-4e9f-9390-40e26940e2cd')\"\n",
              "              title=\"Convert this dataframe to an interactive table.\"\n",
              "              style=\"display:none;\">\n",
              "        \n",
              "  <svg xmlns=\"http://www.w3.org/2000/svg\" height=\"24px\"viewBox=\"0 0 24 24\"\n",
              "       width=\"24px\">\n",
              "    <path d=\"M0 0h24v24H0V0z\" fill=\"none\"/>\n",
              "    <path d=\"M18.56 5.44l.94 2.06.94-2.06 2.06-.94-2.06-.94-.94-2.06-.94 2.06-2.06.94zm-11 1L8.5 8.5l.94-2.06 2.06-.94-2.06-.94L8.5 2.5l-.94 2.06-2.06.94zm10 10l.94 2.06.94-2.06 2.06-.94-2.06-.94-.94-2.06-.94 2.06-2.06.94z\"/><path d=\"M17.41 7.96l-1.37-1.37c-.4-.4-.92-.59-1.43-.59-.52 0-1.04.2-1.43.59L10.3 9.45l-7.72 7.72c-.78.78-.78 2.05 0 2.83L4 21.41c.39.39.9.59 1.41.59.51 0 1.02-.2 1.41-.59l7.78-7.78 2.81-2.81c.8-.78.8-2.07 0-2.86zM5.41 20L4 18.59l7.72-7.72 1.47 1.35L5.41 20z\"/>\n",
              "  </svg>\n",
              "      </button>\n",
              "      \n",
              "  <style>\n",
              "    .colab-df-container {\n",
              "      display:flex;\n",
              "      flex-wrap:wrap;\n",
              "      gap: 12px;\n",
              "    }\n",
              "\n",
              "    .colab-df-convert {\n",
              "      background-color: #E8F0FE;\n",
              "      border: none;\n",
              "      border-radius: 50%;\n",
              "      cursor: pointer;\n",
              "      display: none;\n",
              "      fill: #1967D2;\n",
              "      height: 32px;\n",
              "      padding: 0 0 0 0;\n",
              "      width: 32px;\n",
              "    }\n",
              "\n",
              "    .colab-df-convert:hover {\n",
              "      background-color: #E2EBFA;\n",
              "      box-shadow: 0px 1px 2px rgba(60, 64, 67, 0.3), 0px 1px 3px 1px rgba(60, 64, 67, 0.15);\n",
              "      fill: #174EA6;\n",
              "    }\n",
              "\n",
              "    [theme=dark] .colab-df-convert {\n",
              "      background-color: #3B4455;\n",
              "      fill: #D2E3FC;\n",
              "    }\n",
              "\n",
              "    [theme=dark] .colab-df-convert:hover {\n",
              "      background-color: #434B5C;\n",
              "      box-shadow: 0px 1px 3px 1px rgba(0, 0, 0, 0.15);\n",
              "      filter: drop-shadow(0px 1px 2px rgba(0, 0, 0, 0.3));\n",
              "      fill: #FFFFFF;\n",
              "    }\n",
              "  </style>\n",
              "\n",
              "      <script>\n",
              "        const buttonEl =\n",
              "          document.querySelector('#df-cfe94478-b4b7-4e9f-9390-40e26940e2cd button.colab-df-convert');\n",
              "        buttonEl.style.display =\n",
              "          google.colab.kernel.accessAllowed ? 'block' : 'none';\n",
              "\n",
              "        async function convertToInteractive(key) {\n",
              "          const element = document.querySelector('#df-cfe94478-b4b7-4e9f-9390-40e26940e2cd');\n",
              "          const dataTable =\n",
              "            await google.colab.kernel.invokeFunction('convertToInteractive',\n",
              "                                                     [key], {});\n",
              "          if (!dataTable) return;\n",
              "\n",
              "          const docLinkHtml = 'Like what you see? Visit the ' +\n",
              "            '<a target=\"_blank\" href=https://colab.research.google.com/notebooks/data_table.ipynb>data table notebook</a>'\n",
              "            + ' to learn more about interactive tables.';\n",
              "          element.innerHTML = '';\n",
              "          dataTable['output_type'] = 'display_data';\n",
              "          await google.colab.output.renderOutput(dataTable, element);\n",
              "          const docLink = document.createElement('div');\n",
              "          docLink.innerHTML = docLinkHtml;\n",
              "          element.appendChild(docLink);\n",
              "        }\n",
              "      </script>\n",
              "    </div>\n",
              "  </div>\n",
              "  "
            ]
          },
          "metadata": {},
          "execution_count": 3
        }
      ],
      "source": [
        "data_frame.head()"
      ]
    },
    {
      "cell_type": "markdown",
      "id": "6f45313f",
      "metadata": {
        "id": "6f45313f"
      },
      "source": [
        "##here date is an essential entry so we set all the entries in date column to be true"
      ]
    },
    {
      "cell_type": "code",
      "execution_count": 4,
      "id": "1d91dcdd",
      "metadata": {
        "id": "1d91dcdd"
      },
      "outputs": [],
      "source": [
        "data_frame.set_index(\"Date\",inplace = True)"
      ]
    },
    {
      "cell_type": "markdown",
      "id": "9ab472e5",
      "metadata": {
        "id": "9ab472e5"
      },
      "source": [
        "Plotting the target variable VWAP over time"
      ]
    },
    {
      "cell_type": "code",
      "execution_count": 5,
      "id": "1aee87bf",
      "metadata": {
        "colab": {
          "base_uri": "https://localhost:8080/",
          "height": 299
        },
        "id": "1aee87bf",
        "outputId": "5636ccef-ec9d-4000-94bd-40764ac8d37a"
      },
      "outputs": [
        {
          "output_type": "execute_result",
          "data": {
            "text/plain": [
              "<matplotlib.axes._subplots.AxesSubplot at 0x7fa34b670790>"
            ]
          },
          "metadata": {},
          "execution_count": 5
        },
        {
          "output_type": "display_data",
          "data": {
            "text/plain": [
              "<Figure size 432x288 with 1 Axes>"
            ],
            "image/png": "[encoded data removed]"
          },
          "metadata": {
            "needs_background": "light"
          }
        }
      ],
      "source": [
        "data_frame['VWAP'].plot()"
      ]
    },
    {
      "cell_type": "markdown",
      "id": "901212e7",
      "metadata": {
        "id": "901212e7"
      },
      "source": [
        "so u can observe here some kind of Seasonality"
      ]
    },
    {
      "cell_type": "raw",
      "id": "be910f7d",
      "metadata": {
        "id": "be910f7d"
      },
      "source": [
        "Feature Engineering\n",
        "Almost every time series problem will have some external features or some internal feature engineering to help the model.\n",
        "\n",
        "Let's add some basic features like lag values of available numeric features that are widely used for time series problems. Since we need to predict the price of the stock for a day, we cannot use the feature values of the same day since they will be unavailable at actual inference time. We need to use statistics like mean, standard deviation of their lagged values.\n",
        "\n",
        "We will use three sets of lagged values, one previous day, one looking back 7 days and another looking back 30 days as a proxy for last week and last month metrics."
      ]
    },
    {
      "cell_type": "markdown",
      "id": "aa113539",
      "metadata": {
        "id": "aa113539"
      },
      "source": [
        "##Data Preprocessing\n",
        "##we see many data entries are not avaliable so remove these entries "
      ]
    },
    {
      "cell_type": "code",
      "execution_count": 6,
      "id": "2b9eb106",
      "metadata": {
        "colab": {
          "base_uri": "https://localhost:8080/"
        },
        "id": "2b9eb106",
        "outputId": "496659c9-beec-4f7d-cb7c-7be97786a3a5"
      },
      "outputs": [
        {
          "output_type": "execute_result",
          "data": {
            "text/plain": [
              "Symbol                   0\n",
              "Series                   0\n",
              "Prev Close               0\n",
              "Open                     0\n",
              "High                     0\n",
              "Low                      0\n",
              "Last                     0\n",
              "Close                    0\n",
              "VWAP                     0\n",
              "Volume                   0\n",
              "Turnover                 0\n",
              "Trades                2779\n",
              "Deliverable Volume     446\n",
              "%Deliverble            446\n",
              "dtype: int64"
            ]
          },
          "metadata": {},
          "execution_count": 6
        }
      ],
      "source": [
        "data_frame.isna().sum()"
      ]
    },
    {
      "cell_type": "code",
      "execution_count": 7,
      "id": "c934c649",
      "metadata": {
        "colab": {
          "base_uri": "https://localhost:8080/"
        },
        "id": "c934c649",
        "outputId": "8bff1054-e68b-441a-9494-2bfffee553ff"
      },
      "outputs": [
        {
          "output_type": "execute_result",
          "data": {
            "text/plain": [
              "(5070, 14)"
            ]
          },
          "metadata": {},
          "execution_count": 7
        }
      ],
      "source": [
        "data_frame.shape"
      ]
    },
    {
      "cell_type": "code",
      "execution_count": 8,
      "id": "7cfc5a4f",
      "metadata": {
        "id": "7cfc5a4f"
      },
      "outputs": [],
      "source": [
        "data_frame.dropna(inplace = True)"
      ]
    },
    {
      "cell_type": "code",
      "execution_count": 9,
      "id": "f3683b1b",
      "metadata": {
        "colab": {
          "base_uri": "https://localhost:8080/"
        },
        "id": "f3683b1b",
        "outputId": "82c270be-6a91-45c3-e6bd-8633f83c5992"
      },
      "outputs": [
        {
          "output_type": "execute_result",
          "data": {
            "text/plain": [
              "Symbol                0\n",
              "Series                0\n",
              "Prev Close            0\n",
              "Open                  0\n",
              "High                  0\n",
              "Low                   0\n",
              "Last                  0\n",
              "Close                 0\n",
              "VWAP                  0\n",
              "Volume                0\n",
              "Turnover              0\n",
              "Trades                0\n",
              "Deliverable Volume    0\n",
              "%Deliverble           0\n",
              "dtype: int64"
            ]
          },
          "metadata": {},
          "execution_count": 9
        }
      ],
      "source": [
        "data_frame.isna().sum()"
      ]
    },
    {
      "cell_type": "markdown",
      "id": "e1008414",
      "metadata": {
        "id": "e1008414"
      },
      "source": [
        "All the unavaliable data is removed"
      ]
    },
    {
      "cell_type": "code",
      "execution_count": 10,
      "id": "2f16e84e",
      "metadata": {
        "colab": {
          "base_uri": "https://localhost:8080/"
        },
        "id": "2f16e84e",
        "outputId": "e4a2d342-8383-4d05-e7ab-fd816a431826"
      },
      "outputs": [
        {
          "output_type": "execute_result",
          "data": {
            "text/plain": [
              "(2291, 14)"
            ]
          },
          "metadata": {},
          "execution_count": 10
        }
      ],
      "source": [
        "data_frame.shape"
      ]
    },
    {
      "cell_type": "code",
      "execution_count": 11,
      "id": "975079a8",
      "metadata": {
        "id": "975079a8"
      },
      "outputs": [],
      "source": [
        "data=data_frame.copy()"
      ]
    },
    {
      "cell_type": "code",
      "execution_count": 12,
      "id": "dd09e718",
      "metadata": {
        "colab": {
          "base_uri": "https://localhost:8080/"
        },
        "id": "dd09e718",
        "outputId": "cc68bfb4-a330-4c34-d200-38dd81b8f19f"
      },
      "outputs": [
        {
          "output_type": "execute_result",
          "data": {
            "text/plain": [
              "Symbol                 object\n",
              "Series                 object\n",
              "Prev Close            float64\n",
              "Open                  float64\n",
              "High                  float64\n",
              "Low                   float64\n",
              "Last                  float64\n",
              "Close                 float64\n",
              "VWAP                  float64\n",
              "Volume                  int64\n",
              "Turnover              float64\n",
              "Trades                float64\n",
              "Deliverable Volume    float64\n",
              "%Deliverble           float64\n",
              "dtype: object"
            ]
          },
          "metadata": {},
          "execution_count": 12
        }
      ],
      "source": [
        "data.dtypes"
      ]
    },
    {
      "cell_type": "code",
      "execution_count": 13,
      "id": "afcf7204",
      "metadata": {
        "colab": {
          "base_uri": "https://localhost:8080/"
        },
        "id": "afcf7204",
        "outputId": "b441c8e0-701a-4d84-93d9-bd303faed9bc"
      },
      "outputs": [
        {
          "output_type": "execute_result",
          "data": {
            "text/plain": [
              "Index(['Symbol', 'Series', 'Prev Close', 'Open', 'High', 'Low', 'Last',\n",
              "       'Close', 'VWAP', 'Volume', 'Turnover', 'Trades', 'Deliverable Volume',\n",
              "       '%Deliverble'],\n",
              "      dtype='object')"
            ]
          },
          "metadata": {},
          "execution_count": 13
        }
      ],
      "source": [
        "data.columns"
      ]
    },
    {
      "cell_type": "raw",
      "id": "7b70a097",
      "metadata": {
        "id": "7b70a097"
      },
      "source": [
        "we now seperate the lagging features\n",
        "A lag features is a fancy name for a variable which contains data from prior time steps. If we have time-series data, we can convert it into rows. Every row contains data about one observation and includes all previous occurrences of that observation."
      ]
    },
    {
      "cell_type": "code",
      "execution_count": 14,
      "id": "274ba683",
      "metadata": {
        "id": "274ba683"
      },
      "outputs": [],
      "source": [
        "lag_features = ['High','Low','Volume','Turnover','Trades']\n",
        "window1=3\n",
        "window2=7"
      ]
    },
    {
      "cell_type": "raw",
      "id": "f5d24030",
      "metadata": {
        "id": "f5d24030"
      },
      "source": [
        "rolling() function is a very useful function. It Provides rolling window calculations over the underlying data in the given Series object. center : Set the labels at the center of the window\n"
      ]
    },
    {
      "cell_type": "code",
      "execution_count": 15,
      "id": "4c4316df",
      "metadata": {
        "id": "4c4316df"
      },
      "outputs": [],
      "source": [
        "for feature in lag_features:\n",
        "    data[feature+'rolling_mean_3']=data[feature].rolling(window=window1).mean()\n",
        "    data[feature+'rolling_mean_7']=data[feature].rolling(window=window2).mean()"
      ]
    },
    {
      "cell_type": "code",
      "execution_count": 16,
      "id": "d67f72a7",
      "metadata": {
        "id": "d67f72a7"
      },
      "outputs": [],
      "source": [
        "for feature in lag_features:\n",
        "    data[feature+'rolling_std_3']=data[feature].rolling(window=window1).std()\n",
        "    data[feature+'rolling_std_7']=data[feature].rolling(window=window2).std()"
      ]
    },
    {
      "cell_type": "code",
      "execution_count": 17,
      "id": "b9e488eb",
      "metadata": {
        "colab": {
          "base_uri": "https://localhost:8080/",
          "height": 852
        },
        "id": "b9e488eb",
        "outputId": "61c62a6d-0c62-40b9-ab25-05da89962ed5"
      },
      "outputs": [
        {
          "output_type": "execute_result",
          "data": {
            "text/plain": [
              "                Symbol Series  Prev Close    Open    High     Low    Last  \\\n",
              "Date                                                                        \n",
              "2011-06-01  BAJFINANCE     EQ      616.70  617.00  636.50  616.00  627.00   \n",
              "2011-06-02  BAJFINANCE     EQ      631.85  625.00  638.90  620.00  634.00   \n",
              "2011-06-03  BAJFINANCE     EQ      633.45  625.15  637.80  620.00  623.00   \n",
              "2011-06-06  BAJFINANCE     EQ      625.00  620.00  641.00  611.35  611.35   \n",
              "2011-06-07  BAJFINANCE     EQ      614.00  604.00  623.95  604.00  619.90   \n",
              "2011-06-08  BAJFINANCE     EQ      619.15  604.00  645.00  604.00  633.25   \n",
              "2011-06-09  BAJFINANCE     EQ      635.60  639.80  647.00  630.00  630.00   \n",
              "2011-06-10  BAJFINANCE     EQ      631.10  641.85  648.25  618.55  621.10   \n",
              "2011-06-13  BAJFINANCE     EQ      622.20  616.00  627.85  616.00  622.75   \n",
              "2011-06-14  BAJFINANCE     EQ      624.95  625.00  628.95  619.95  621.20   \n",
              "\n",
              "             Close    VWAP  Volume  ...  Highrolling_std_3  Highrolling_std_7  \\\n",
              "Date                                ...                                         \n",
              "2011-06-01  631.85  627.01    6894  ...                NaN                NaN   \n",
              "2011-06-02  633.45  636.04    2769  ...                NaN                NaN   \n",
              "2011-06-03  625.00  625.09   51427  ...           1.201388                NaN   \n",
              "2011-06-06  614.00  616.03    5446  ...           1.625833                NaN   \n",
              "2011-06-07  619.15  617.73    5991  ...           9.062422                NaN   \n",
              "2011-06-08  635.60  634.65   26863  ...          11.178886                NaN   \n",
              "2011-06-09  631.10  638.27   31252  ...          12.769789           7.494911   \n",
              "2011-06-10  622.20  634.16   30885  ...           1.639360           8.227994   \n",
              "2011-06-13  624.95  622.92    3981  ...          11.434196           9.497080   \n",
              "2011-06-14  622.10  625.35    5597  ...          11.473593          10.198891   \n",
              "\n",
              "            Lowrolling_std_3  Lowrolling_std_7  Volumerolling_std_3  \\\n",
              "Date                                                                  \n",
              "2011-06-01               NaN               NaN                  NaN   \n",
              "2011-06-02               NaN               NaN                  NaN   \n",
              "2011-06-03          2.309401               NaN         26980.871860   \n",
              "2011-06-06          4.994080               NaN         27352.695339   \n",
              "2011-06-07          8.008797               NaN         26391.221653   \n",
              "2011-06-08          4.243524               NaN         12210.823737   \n",
              "2011-06-09         15.011107          9.410145         13497.047986   \n",
              "2011-06-10         13.030765          9.501961          2434.970705   \n",
              "2011-06-13          7.456597          9.298317         15640.051929   \n",
              "2011-06-14          2.002707          9.293713         15088.183102   \n",
              "\n",
              "            Volumerolling_std_7  Turnoverrolling_std_3  Turnoverrolling_std_7  \\\n",
              "Date                                                                            \n",
              "2011-06-01                  NaN                    NaN                    NaN   \n",
              "2011-06-02                  NaN                    NaN                    NaN   \n",
              "2011-06-03                  NaN           1.685217e+12                    NaN   \n",
              "2011-06-06                  NaN           1.710136e+12                    NaN   \n",
              "2011-06-07                  NaN           1.652377e+12                    NaN   \n",
              "2011-06-08                  NaN           7.808102e+11                    NaN   \n",
              "2011-06-09         18373.894011           8.665128e+11           1.155773e+12   \n",
              "2011-06-10         18047.331029           1.579562e+11           1.136003e+12   \n",
              "2011-06-13         17835.642665           9.982094e+11           1.123423e+12   \n",
              "2011-06-14         13139.472184           9.595224e+11           8.397765e+11   \n",
              "\n",
              "            Tradesrolling_std_3  Tradesrolling_std_7  \n",
              "Date                                                  \n",
              "2011-06-01                  NaN                  NaN  \n",
              "2011-06-02                  NaN                  NaN  \n",
              "2011-06-03           670.500559                  NaN  \n",
              "2011-06-06           148.769396                  NaN  \n",
              "2011-06-07            78.270897                  NaN  \n",
              "2011-06-08           352.481205                  NaN  \n",
              "2011-06-09           354.841279           463.942320  \n",
              "2011-06-10           272.875429           448.020620  \n",
              "2011-06-13           557.373603           464.778596  \n",
              "2011-06-14           656.385050           455.234163  \n",
              "\n",
              "[10 rows x 34 columns]"
            ],
            "text/html": [
              "\n",
              "  <div id=\"df-daafb8e6-a14d-419a-8234-1cd6c212323b\">\n",
              "    <div class=\"colab-df-container\">\n",
              "      <div>\n",
              "<style scoped>\n",
              "    .dataframe tbody tr th:only-of-type {\n",
              "        vertical-align: middle;\n",
              "    }\n",
              "\n",
              "    .dataframe tbody tr th {\n",
              "        vertical-align: top;\n",
              "    }\n",
              "\n",
              "    .dataframe thead th {\n",
              "        text-align: right;\n",
              "    }\n",
              "</style>\n",
              "<table border=\"1\" class=\"dataframe\">\n",
              "  <thead>\n",
              "    <tr style=\"text-align: right;\">\n",
              "      <th></th>\n",
              "      <th>Symbol</th>\n",
              "      <th>Series</th>\n",
              "      <th>Prev Close</th>\n",
              "      <th>Open</th>\n",
              "      <th>High</th>\n",
              "      <th>Low</th>\n",
              "      <th>Last</th>\n",
              "      <th>Close</th>\n",
              "      <th>VWAP</th>\n",
              "      <th>Volume</th>\n",
              "      <th>...</th>\n",
              "      <th>Highrolling_std_3</th>\n",
              "      <th>Highrolling_std_7</th>\n",
              "      <th>Lowrolling_std_3</th>\n",
              "      <th>Lowrolling_std_7</th>\n",
              "      <th>Volumerolling_std_3</th>\n",
              "      <th>Volumerolling_std_7</th>\n",
              "      <th>Turnoverrolling_std_3</th>\n",
              "      <th>Turnoverrolling_std_7</th>\n",
              "      <th>Tradesrolling_std_3</th>\n",
              "      <th>Tradesrolling_std_7</th>\n",
              "    </tr>\n",
              "    <tr>\n",
              "      <th>Date</th>\n",
              "      <th></th>\n",
              "      <th></th>\n",
              "      <th></th>\n",
              "      <th></th>\n",
              "      <th></th>\n",
              "      <th></th>\n",
              "      <th></th>\n",
              "      <th></th>\n",
              "      <th></th>\n",
              "      <th></th>\n",
              "      <th></th>\n",
              "      <th></th>\n",
              "      <th></th>\n",
              "      <th></th>\n",
              "      <th></th>\n",
              "      <th></th>\n",
              "      <th></th>\n",
              "      <th></th>\n",
              "      <th></th>\n",
              "      <th></th>\n",
              "      <th></th>\n",
              "    </tr>\n",
              "  </thead>\n",
              "  <tbody>\n",
              "    <tr>\n",
              "      <th>2011-06-01</th>\n",
              "      <td>BAJFINANCE</td>\n",
              "      <td>EQ</td>\n",
              "      <td>616.70</td>\n",
              "      <td>617.00</td>\n",
              "      <td>636.50</td>\n",
              "      <td>616.00</td>\n",
              "      <td>627.00</td>\n",
              "      <td>631.85</td>\n",
              "      <td>627.01</td>\n",
              "      <td>6894</td>\n",
              "      <td>...</td>\n",
              "      <td>NaN</td>\n",
              "      <td>NaN</td>\n",
              "      <td>NaN</td>\n",
              "      <td>NaN</td>\n",
              "      <td>NaN</td>\n",
              "      <td>NaN</td>\n",
              "      <td>NaN</td>\n",
              "      <td>NaN</td>\n",
              "      <td>NaN</td>\n",
              "      <td>NaN</td>\n",
              "    </tr>\n",
              "    <tr>\n",
              "      <th>2011-06-02</th>\n",
              "      <td>BAJFINANCE</td>\n",
              "      <td>EQ</td>\n",
              "      <td>631.85</td>\n",
              "      <td>625.00</td>\n",
              "      <td>638.90</td>\n",
              "      <td>620.00</td>\n",
              "      <td>634.00</td>\n",
              "      <td>633.45</td>\n",
              "      <td>636.04</td>\n",
              "      <td>2769</td>\n",
              "      <td>...</td>\n",
              "      <td>NaN</td>\n",
              "      <td>NaN</td>\n",
              "      <td>NaN</td>\n",
              "      <td>NaN</td>\n",
              "      <td>NaN</td>\n",
              "      <td>NaN</td>\n",
              "      <td>NaN</td>\n",
              "      <td>NaN</td>\n",
              "      <td>NaN</td>\n",
              "      <td>NaN</td>\n",
              "    </tr>\n",
              "    <tr>\n",
              "      <th>2011-06-03</th>\n",
              "      <td>BAJFINANCE</td>\n",
              "      <td>EQ</td>\n",
              "      <td>633.45</td>\n",
              "      <td>625.15</td>\n",
              "      <td>637.80</td>\n",
              "      <td>620.00</td>\n",
              "      <td>623.00</td>\n",
              "      <td>625.00</td>\n",
              "      <td>625.09</td>\n",
              "      <td>51427</td>\n",
              "      <td>...</td>\n",
              "      <td>1.201388</td>\n",
              "      <td>NaN</td>\n",
              "      <td>2.309401</td>\n",
              "      <td>NaN</td>\n",
              "      <td>26980.871860</td>\n",
              "      <td>NaN</td>\n",
              "      <td>1.685217e+12</td>\n",
              "      <td>NaN</td>\n",
              "      <td>670.500559</td>\n",
              "      <td>NaN</td>\n",
              "    </tr>\n",
              "    <tr>\n",
              "      <th>2011-06-06</th>\n",
              "      <td>BAJFINANCE</td>\n",
              "      <td>EQ</td>\n",
              "      <td>625.00</td>\n",
              "      <td>620.00</td>\n",
              "      <td>641.00</td>\n",
              "      <td>611.35</td>\n",
              "      <td>611.35</td>\n",
              "      <td>614.00</td>\n",
              "      <td>616.03</td>\n",
              "      <td>5446</td>\n",
              "      <td>...</td>\n",
              "      <td>1.625833</td>\n",
              "      <td>NaN</td>\n",
              "      <td>4.994080</td>\n",
              "      <td>NaN</td>\n",
              "      <td>27352.695339</td>\n",
              "      <td>NaN</td>\n",
              "      <td>1.710136e+12</td>\n",
              "      <td>NaN</td>\n",
              "      <td>148.769396</td>\n",
              "      <td>NaN</td>\n",
              "    </tr>\n",
              "    <tr>\n",
              "      <th>2011-06-07</th>\n",
              "      <td>BAJFINANCE</td>\n",
              "      <td>EQ</td>\n",
              "      <td>614.00</td>\n",
              "      <td>604.00</td>\n",
              "      <td>623.95</td>\n",
              "      <td>604.00</td>\n",
              "      <td>619.90</td>\n",
              "      <td>619.15</td>\n",
              "      <td>617.73</td>\n",
              "      <td>5991</td>\n",
              "      <td>...</td>\n",
              "      <td>9.062422</td>\n",
              "      <td>NaN</td>\n",
              "      <td>8.008797</td>\n",
              "      <td>NaN</td>\n",
              "      <td>26391.221653</td>\n",
              "      <td>NaN</td>\n",
              "      <td>1.652377e+12</td>\n",
              "      <td>NaN</td>\n",
              "      <td>78.270897</td>\n",
              "      <td>NaN</td>\n",
              "    </tr>\n",
              "    <tr>\n",
              "      <th>2011-06-08</th>\n",
              "      <td>BAJFINANCE</td>\n",
              "      <td>EQ</td>\n",
              "      <td>619.15</td>\n",
              "      <td>604.00</td>\n",
              "      <td>645.00</td>\n",
              "      <td>604.00</td>\n",
              "      <td>633.25</td>\n",
              "      <td>635.60</td>\n",
              "      <td>634.65</td>\n",
              "      <td>26863</td>\n",
              "      <td>...</td>\n",
              "      <td>11.178886</td>\n",
              "      <td>NaN</td>\n",
              "      <td>4.243524</td>\n",
              "      <td>NaN</td>\n",
              "      <td>12210.823737</td>\n",
              "      <td>NaN</td>\n",
              "      <td>7.808102e+11</td>\n",
              "      <td>NaN</td>\n",
              "      <td>352.481205</td>\n",
              "      <td>NaN</td>\n",
              "    </tr>\n",
              "    <tr>\n",
              "      <th>2011-06-09</th>\n",
              "      <td>BAJFINANCE</td>\n",
              "      <td>EQ</td>\n",
              "      <td>635.60</td>\n",
              "      <td>639.80</td>\n",
              "      <td>647.00</td>\n",
              "      <td>630.00</td>\n",
              "      <td>630.00</td>\n",
              "      <td>631.10</td>\n",
              "      <td>638.27</td>\n",
              "      <td>31252</td>\n",
              "      <td>...</td>\n",
              "      <td>12.769789</td>\n",
              "      <td>7.494911</td>\n",
              "      <td>15.011107</td>\n",
              "      <td>9.410145</td>\n",
              "      <td>13497.047986</td>\n",
              "      <td>18373.894011</td>\n",
              "      <td>8.665128e+11</td>\n",
              "      <td>1.155773e+12</td>\n",
              "      <td>354.841279</td>\n",
              "      <td>463.942320</td>\n",
              "    </tr>\n",
              "    <tr>\n",
              "      <th>2011-06-10</th>\n",
              "      <td>BAJFINANCE</td>\n",
              "      <td>EQ</td>\n",
              "      <td>631.10</td>\n",
              "      <td>641.85</td>\n",
              "      <td>648.25</td>\n",
              "      <td>618.55</td>\n",
              "      <td>621.10</td>\n",
              "      <td>622.20</td>\n",
              "      <td>634.16</td>\n",
              "      <td>30885</td>\n",
              "      <td>...</td>\n",
              "      <td>1.639360</td>\n",
              "      <td>8.227994</td>\n",
              "      <td>13.030765</td>\n",
              "      <td>9.501961</td>\n",
              "      <td>2434.970705</td>\n",
              "      <td>18047.331029</td>\n",
              "      <td>1.579562e+11</td>\n",
              "      <td>1.136003e+12</td>\n",
              "      <td>272.875429</td>\n",
              "      <td>448.020620</td>\n",
              "    </tr>\n",
              "    <tr>\n",
              "      <th>2011-06-13</th>\n",
              "      <td>BAJFINANCE</td>\n",
              "      <td>EQ</td>\n",
              "      <td>622.20</td>\n",
              "      <td>616.00</td>\n",
              "      <td>627.85</td>\n",
              "      <td>616.00</td>\n",
              "      <td>622.75</td>\n",
              "      <td>624.95</td>\n",
              "      <td>622.92</td>\n",
              "      <td>3981</td>\n",
              "      <td>...</td>\n",
              "      <td>11.434196</td>\n",
              "      <td>9.497080</td>\n",
              "      <td>7.456597</td>\n",
              "      <td>9.298317</td>\n",
              "      <td>15640.051929</td>\n",
              "      <td>17835.642665</td>\n",
              "      <td>9.982094e+11</td>\n",
              "      <td>1.123423e+12</td>\n",
              "      <td>557.373603</td>\n",
              "      <td>464.778596</td>\n",
              "    </tr>\n",
              "    <tr>\n",
              "      <th>2011-06-14</th>\n",
              "      <td>BAJFINANCE</td>\n",
              "      <td>EQ</td>\n",
              "      <td>624.95</td>\n",
              "      <td>625.00</td>\n",
              "      <td>628.95</td>\n",
              "      <td>619.95</td>\n",
              "      <td>621.20</td>\n",
              "      <td>622.10</td>\n",
              "      <td>625.35</td>\n",
              "      <td>5597</td>\n",
              "      <td>...</td>\n",
              "      <td>11.473593</td>\n",
              "      <td>10.198891</td>\n",
              "      <td>2.002707</td>\n",
              "      <td>9.293713</td>\n",
              "      <td>15088.183102</td>\n",
              "      <td>13139.472184</td>\n",
              "      <td>9.595224e+11</td>\n",
              "      <td>8.397765e+11</td>\n",
              "      <td>656.385050</td>\n",
              "      <td>455.234163</td>\n",
              "    </tr>\n",
              "  </tbody>\n",
              "</table>\n",
              "<p>10 rows × 34 columns</p>\n",
              "</div>\n",
              "      <button class=\"colab-df-convert\" onclick=\"convertToInteractive('df-daafb8e6-a14d-419a-8234-1cd6c212323b')\"\n",
              "              title=\"Convert this dataframe to an interactive table.\"\n",
              "              style=\"display:none;\">\n",
              "        \n",
              "  <svg xmlns=\"http://www.w3.org/2000/svg\" height=\"24px\"viewBox=\"0 0 24 24\"\n",
              "       width=\"24px\">\n",
              "    <path d=\"M0 0h24v24H0V0z\" fill=\"none\"/>\n",
              "    <path d=\"M18.56 5.44l.94 2.06.94-2.06 2.06-.94-2.06-.94-.94-2.06-.94 2.06-2.06.94zm-11 1L8.5 8.5l.94-2.06 2.06-.94-2.06-.94L8.5 2.5l-.94 2.06-2.06.94zm10 10l.94 2.06.94-2.06 2.06-.94-2.06-.94-.94-2.06-.94 2.06-2.06.94z\"/><path d=\"M17.41 7.96l-1.37-1.37c-.4-.4-.92-.59-1.43-.59-.52 0-1.04.2-1.43.59L10.3 9.45l-7.72 7.72c-.78.78-.78 2.05 0 2.83L4 21.41c.39.39.9.59 1.41.59.51 0 1.02-.2 1.41-.59l7.78-7.78 2.81-2.81c.8-.78.8-2.07 0-2.86zM5.41 20L4 18.59l7.72-7.72 1.47 1.35L5.41 20z\"/>\n",
              "  </svg>\n",
              "      </button>\n",
              "      \n",
              "  <style>\n",
              "    .colab-df-container {\n",
              "      display:flex;\n",
              "      flex-wrap:wrap;\n",
              "      gap: 12px;\n",
              "    }\n",
              "\n",
              "    .colab-df-convert {\n",
              "      background-color: #E8F0FE;\n",
              "      border: none;\n",
              "      border-radius: 50%;\n",
              "      cursor: pointer;\n",
              "      display: none;\n",
              "      fill: #1967D2;\n",
              "      height: 32px;\n",
              "      padding: 0 0 0 0;\n",
              "      width: 32px;\n",
              "    }\n",
              "\n",
              "    .colab-df-convert:hover {\n",
              "      background-color: #E2EBFA;\n",
              "      box-shadow: 0px 1px 2px rgba(60, 64, 67, 0.3), 0px 1px 3px 1px rgba(60, 64, 67, 0.15);\n",
              "      fill: #174EA6;\n",
              "    }\n",
              "\n",
              "    [theme=dark] .colab-df-convert {\n",
              "      background-color: #3B4455;\n",
              "      fill: #D2E3FC;\n",
              "    }\n",
              "\n",
              "    [theme=dark] .colab-df-convert:hover {\n",
              "      background-color: #434B5C;\n",
              "      box-shadow: 0px 1px 3px 1px rgba(0, 0, 0, 0.15);\n",
              "      filter: drop-shadow(0px 1px 2px rgba(0, 0, 0, 0.3));\n",
              "      fill: #FFFFFF;\n",
              "    }\n",
              "  </style>\n",
              "\n",
              "      <script>\n",
              "        const buttonEl =\n",
              "          document.querySelector('#df-daafb8e6-a14d-419a-8234-1cd6c212323b button.colab-df-convert');\n",
              "        buttonEl.style.display =\n",
              "          google.colab.kernel.accessAllowed ? 'block' : 'none';\n",
              "\n",
              "        async function convertToInteractive(key) {\n",
              "          const element = document.querySelector('#df-daafb8e6-a14d-419a-8234-1cd6c212323b');\n",
              "          const dataTable =\n",
              "            await google.colab.kernel.invokeFunction('convertToInteractive',\n",
              "                                                     [key], {});\n",
              "          if (!dataTable) return;\n",
              "\n",
              "          const docLinkHtml = 'Like what you see? Visit the ' +\n",
              "            '<a target=\"_blank\" href=https://colab.research.google.com/notebooks/data_table.ipynb>data table notebook</a>'\n",
              "            + ' to learn more about interactive tables.';\n",
              "          element.innerHTML = '';\n",
              "          dataTable['output_type'] = 'display_data';\n",
              "          await google.colab.output.renderOutput(dataTable, element);\n",
              "          const docLink = document.createElement('div');\n",
              "          docLink.innerHTML = docLinkHtml;\n",
              "          element.appendChild(docLink);\n",
              "        }\n",
              "      </script>\n",
              "    </div>\n",
              "  </div>\n",
              "  "
            ]
          },
          "metadata": {},
          "execution_count": 17
        }
      ],
      "source": [
        "data.head(10)"
      ]
    },
    {
      "cell_type": "raw",
      "id": "82eb5052",
      "metadata": {
        "id": "82eb5052"
      },
      "source": [
        "we made rolling over data and so for window size = window1, we have 2 NaN entries whereas for windowsize = window2 we have 6 NaN entries\n",
        "so the rolling add the previous entries of window size = window1.here for 1st and 2nd there are ther entries are NaN."
      ]
    },
    {
      "cell_type": "code",
      "execution_count": 18,
      "id": "c815fb9e",
      "metadata": {
        "colab": {
          "base_uri": "https://localhost:8080/"
        },
        "id": "c815fb9e",
        "outputId": "78671724-9f9d-456e-a5eb-a104283ebd96"
      },
      "outputs": [
        {
          "output_type": "execute_result",
          "data": {
            "text/plain": [
              "Index(['Symbol', 'Series', 'Prev Close', 'Open', 'High', 'Low', 'Last',\n",
              "       'Close', 'VWAP', 'Volume', 'Turnover', 'Trades', 'Deliverable Volume',\n",
              "       '%Deliverble', 'Highrolling_mean_3', 'Highrolling_mean_7',\n",
              "       'Lowrolling_mean_3', 'Lowrolling_mean_7', 'Volumerolling_mean_3',\n",
              "       'Volumerolling_mean_7', 'Turnoverrolling_mean_3',\n",
              "       'Turnoverrolling_mean_7', 'Tradesrolling_mean_3',\n",
              "       'Tradesrolling_mean_7', 'Highrolling_std_3', 'Highrolling_std_7',\n",
              "       'Lowrolling_std_3', 'Lowrolling_std_7', 'Volumerolling_std_3',\n",
              "       'Volumerolling_std_7', 'Turnoverrolling_std_3', 'Turnoverrolling_std_7',\n",
              "       'Tradesrolling_std_3', 'Tradesrolling_std_7'],\n",
              "      dtype='object')"
            ]
          },
          "metadata": {},
          "execution_count": 18
        }
      ],
      "source": [
        "data.columns"
      ]
    },
    {
      "cell_type": "code",
      "execution_count": 19,
      "id": "1a1b3985",
      "metadata": {
        "colab": {
          "base_uri": "https://localhost:8080/"
        },
        "id": "1a1b3985",
        "outputId": "23397438-4161-4880-94dd-de6f2886b793"
      },
      "outputs": [
        {
          "output_type": "execute_result",
          "data": {
            "text/plain": [
              "(2291, 34)"
            ]
          },
          "metadata": {},
          "execution_count": 19
        }
      ],
      "source": [
        "data.shape"
      ]
    },
    {
      "cell_type": "code",
      "execution_count": 20,
      "id": "77afc146",
      "metadata": {
        "colab": {
          "base_uri": "https://localhost:8080/"
        },
        "id": "77afc146",
        "outputId": "df7397c8-fe90-487e-c59a-cb900bbc73bd"
      },
      "outputs": [
        {
          "output_type": "execute_result",
          "data": {
            "text/plain": [
              "Symbol                    0\n",
              "Series                    0\n",
              "Prev Close                0\n",
              "Open                      0\n",
              "High                      0\n",
              "Low                       0\n",
              "Last                      0\n",
              "Close                     0\n",
              "VWAP                      0\n",
              "Volume                    0\n",
              "Turnover                  0\n",
              "Trades                    0\n",
              "Deliverable Volume        0\n",
              "%Deliverble               0\n",
              "Highrolling_mean_3        2\n",
              "Highrolling_mean_7        6\n",
              "Lowrolling_mean_3         2\n",
              "Lowrolling_mean_7         6\n",
              "Volumerolling_mean_3      2\n",
              "Volumerolling_mean_7      6\n",
              "Turnoverrolling_mean_3    2\n",
              "Turnoverrolling_mean_7    6\n",
              "Tradesrolling_mean_3      2\n",
              "Tradesrolling_mean_7      6\n",
              "Highrolling_std_3         2\n",
              "Highrolling_std_7         6\n",
              "Lowrolling_std_3          2\n",
              "Lowrolling_std_7          6\n",
              "Volumerolling_std_3       2\n",
              "Volumerolling_std_7       6\n",
              "Turnoverrolling_std_3     2\n",
              "Turnoverrolling_std_7     6\n",
              "Tradesrolling_std_3       2\n",
              "Tradesrolling_std_7       6\n",
              "dtype: int64"
            ]
          },
          "metadata": {},
          "execution_count": 20
        }
      ],
      "source": [
        "data.isna().sum()"
      ]
    },
    {
      "cell_type": "code",
      "execution_count": 21,
      "id": "cee48706",
      "metadata": {
        "id": "cee48706"
      },
      "outputs": [],
      "source": [
        "data.dropna(inplace = True)"
      ]
    },
    {
      "cell_type": "code",
      "execution_count": 22,
      "id": "0ef68ee1",
      "metadata": {
        "colab": {
          "base_uri": "https://localhost:8080/"
        },
        "id": "0ef68ee1",
        "outputId": "1fd3ded5-c1be-4ee4-eaa9-1fb293a5b7cf"
      },
      "outputs": [
        {
          "output_type": "execute_result",
          "data": {
            "text/plain": [
              "Symbol                    0\n",
              "Series                    0\n",
              "Prev Close                0\n",
              "Open                      0\n",
              "High                      0\n",
              "Low                       0\n",
              "Last                      0\n",
              "Close                     0\n",
              "VWAP                      0\n",
              "Volume                    0\n",
              "Turnover                  0\n",
              "Trades                    0\n",
              "Deliverable Volume        0\n",
              "%Deliverble               0\n",
              "Highrolling_mean_3        0\n",
              "Highrolling_mean_7        0\n",
              "Lowrolling_mean_3         0\n",
              "Lowrolling_mean_7         0\n",
              "Volumerolling_mean_3      0\n",
              "Volumerolling_mean_7      0\n",
              "Turnoverrolling_mean_3    0\n",
              "Turnoverrolling_mean_7    0\n",
              "Tradesrolling_mean_3      0\n",
              "Tradesrolling_mean_7      0\n",
              "Highrolling_std_3         0\n",
              "Highrolling_std_7         0\n",
              "Lowrolling_std_3          0\n",
              "Lowrolling_std_7          0\n",
              "Volumerolling_std_3       0\n",
              "Volumerolling_std_7       0\n",
              "Turnoverrolling_std_3     0\n",
              "Turnoverrolling_std_7     0\n",
              "Tradesrolling_std_3       0\n",
              "Tradesrolling_std_7       0\n",
              "dtype: int64"
            ]
          },
          "metadata": {},
          "execution_count": 22
        }
      ],
      "source": [
        "data.isna().sum()"
      ]
    },
    {
      "cell_type": "code",
      "execution_count": 23,
      "id": "cce0e421",
      "metadata": {
        "colab": {
          "base_uri": "https://localhost:8080/"
        },
        "id": "cce0e421",
        "outputId": "341fddab-16a1-4a87-c525-a448c084dae1"
      },
      "outputs": [
        {
          "output_type": "execute_result",
          "data": {
            "text/plain": [
              "(2285, 34)"
            ]
          },
          "metadata": {},
          "execution_count": 23
        }
      ],
      "source": [
        "data.shape"
      ]
    },
    {
      "cell_type": "markdown",
      "id": "608b3378",
      "metadata": {
        "id": "608b3378"
      },
      "source": [
        "##seperating independent features"
      ]
    },
    {
      "cell_type": "code",
      "execution_count": 24,
      "id": "c65fe0d7",
      "metadata": {
        "id": "c65fe0d7"
      },
      "outputs": [],
      "source": [
        "ind_features = ['Highrolling_mean_3', 'Highrolling_mean_7',\n",
        "       'Lowrolling_mean_3', 'Lowrolling_mean_7', 'Volumerolling_mean_3',\n",
        "       'Volumerolling_mean_7', 'Turnoverrolling_mean_3',\n",
        "       'Turnoverrolling_mean_7', 'Tradesrolling_mean_3',\n",
        "       'Tradesrolling_mean_7', 'Highrolling_std_3', 'Highrolling_std_7',\n",
        "       'Lowrolling_std_3', 'Lowrolling_std_7', 'Volumerolling_std_3',\n",
        "       'Volumerolling_std_7', 'Turnoverrolling_std_3', 'Turnoverrolling_std_7',\n",
        "       'Tradesrolling_std_3', 'Tradesrolling_std_7']"
      ]
    },
    {
      "cell_type": "markdown",
      "id": "71f40039",
      "metadata": {
        "id": "71f40039"
      },
      "source": [
        "seperating training and testing data"
      ]
    },
    {
      "cell_type": "code",
      "execution_count": 25,
      "id": "76dfd808",
      "metadata": {
        "id": "76dfd808"
      },
      "outputs": [],
      "source": [
        "training_data=data[0:1800]\n",
        "test_data=data[1800:]"
      ]
    },
    {
      "cell_type": "code",
      "execution_count": 26,
      "id": "92c38b2d",
      "metadata": {
        "colab": {
          "base_uri": "https://localhost:8080/",
          "height": 522
        },
        "id": "92c38b2d",
        "outputId": "56388b1f-ae84-44f7-8910-8b1d80d7a4ed"
      },
      "outputs": [
        {
          "output_type": "execute_result",
          "data": {
            "text/plain": [
              "                Symbol Series  Prev Close    Open    High     Low    Last  \\\n",
              "Date                                                                        \n",
              "2011-06-09  BAJFINANCE     EQ      635.60  639.80  647.00  630.00  630.00   \n",
              "2011-06-10  BAJFINANCE     EQ      631.10  641.85  648.25  618.55  621.10   \n",
              "2011-06-13  BAJFINANCE     EQ      622.20  616.00  627.85  616.00  622.75   \n",
              "2011-06-14  BAJFINANCE     EQ      624.95  625.00  628.95  619.95  621.20   \n",
              "2011-06-15  BAJFINANCE     EQ      622.10  612.00  623.00  598.10  605.00   \n",
              "\n",
              "             Close    VWAP  Volume  ...  Highrolling_std_3  Highrolling_std_7  \\\n",
              "Date                                ...                                         \n",
              "2011-06-09  631.10  638.27   31252  ...          12.769789           7.494911   \n",
              "2011-06-10  622.20  634.16   30885  ...           1.639360           8.227994   \n",
              "2011-06-13  624.95  622.92    3981  ...          11.434196           9.497080   \n",
              "2011-06-14  622.10  625.35    5597  ...          11.473593          10.198891   \n",
              "2011-06-15  601.70  606.90   12590  ...           3.165833          11.352292   \n",
              "\n",
              "            Lowrolling_std_3  Lowrolling_std_7  Volumerolling_std_3  \\\n",
              "Date                                                                  \n",
              "2011-06-09         15.011107          9.410145         13497.047986   \n",
              "2011-06-10         13.030765          9.501961          2434.970705   \n",
              "2011-06-13          7.456597          9.298317         15640.051929   \n",
              "2011-06-14          2.002707          9.293713         15088.183102   \n",
              "2011-06-15         11.643560         11.262712          4575.812970   \n",
              "\n",
              "            Volumerolling_std_7  Turnoverrolling_std_3  Turnoverrolling_std_7  \\\n",
              "Date                                                                            \n",
              "2011-06-09         18373.894011           8.665128e+11           1.155773e+12   \n",
              "2011-06-10         18047.331029           1.579562e+11           1.136003e+12   \n",
              "2011-06-13         17835.642665           9.982094e+11           1.123423e+12   \n",
              "2011-06-14         13139.472184           9.595224e+11           8.397765e+11   \n",
              "2011-06-15         12469.137006           2.733211e+11           7.983186e+11   \n",
              "\n",
              "            Tradesrolling_std_3  Tradesrolling_std_7  \n",
              "Date                                                  \n",
              "2011-06-09           354.841279           463.942320  \n",
              "2011-06-10           272.875429           448.020620  \n",
              "2011-06-13           557.373603           464.778596  \n",
              "2011-06-14           656.385050           455.234163  \n",
              "2011-06-15           150.639747           436.941971  \n",
              "\n",
              "[5 rows x 34 columns]"
            ],
            "text/html": [
              "\n",
              "  <div id=\"df-be735b95-a71f-43cd-8357-ec70b472efb7\">\n",
              "    <div class=\"colab-df-container\">\n",
              "      <div>\n",
              "<style scoped>\n",
              "    .dataframe tbody tr th:only-of-type {\n",
              "        vertical-align: middle;\n",
              "    }\n",
              "\n",
              "    .dataframe tbody tr th {\n",
              "        vertical-align: top;\n",
              "    }\n",
              "\n",
              "    .dataframe thead th {\n",
              "        text-align: right;\n",
              "    }\n",
              "</style>\n",
              "<table border=\"1\" class=\"dataframe\">\n",
              "  <thead>\n",
              "    <tr style=\"text-align: right;\">\n",
              "      <th></th>\n",
              "      <th>Symbol</th>\n",
              "      <th>Series</th>\n",
              "      <th>Prev Close</th>\n",
              "      <th>Open</th>\n",
              "      <th>High</th>\n",
              "      <th>Low</th>\n",
              "      <th>Last</th>\n",
              "      <th>Close</th>\n",
              "      <th>VWAP</th>\n",
              "      <th>Volume</th>\n",
              "      <th>...</th>\n",
              "      <th>Highrolling_std_3</th>\n",
              "      <th>Highrolling_std_7</th>\n",
              "      <th>Lowrolling_std_3</th>\n",
              "      <th>Lowrolling_std_7</th>\n",
              "      <th>Volumerolling_std_3</th>\n",
              "      <th>Volumerolling_std_7</th>\n",
              "      <th>Turnoverrolling_std_3</th>\n",
              "      <th>Turnoverrolling_std_7</th>\n",
              "      <th>Tradesrolling_std_3</th>\n",
              "      <th>Tradesrolling_std_7</th>\n",
              "    </tr>\n",
              "    <tr>\n",
              "      <th>Date</th>\n",
              "      <th></th>\n",
              "      <th></th>\n",
              "      <th></th>\n",
              "      <th></th>\n",
              "      <th></th>\n",
              "      <th></th>\n",
              "      <th></th>\n",
              "      <th></th>\n",
              "      <th></th>\n",
              "      <th></th>\n",
              "      <th></th>\n",
              "      <th></th>\n",
              "      <th></th>\n",
              "      <th></th>\n",
              "      <th></th>\n",
              "      <th></th>\n",
              "      <th></th>\n",
              "      <th></th>\n",
              "      <th></th>\n",
              "      <th></th>\n",
              "      <th></th>\n",
              "    </tr>\n",
              "  </thead>\n",
              "  <tbody>\n",
              "    <tr>\n",
              "      <th>2011-06-09</th>\n",
              "      <td>BAJFINANCE</td>\n",
              "      <td>EQ</td>\n",
              "      <td>635.60</td>\n",
              "      <td>639.80</td>\n",
              "      <td>647.00</td>\n",
              "      <td>630.00</td>\n",
              "      <td>630.00</td>\n",
              "      <td>631.10</td>\n",
              "      <td>638.27</td>\n",
              "      <td>31252</td>\n",
              "      <td>...</td>\n",
              "      <td>12.769789</td>\n",
              "      <td>7.494911</td>\n",
              "      <td>15.011107</td>\n",
              "      <td>9.410145</td>\n",
              "      <td>13497.047986</td>\n",
              "      <td>18373.894011</td>\n",
              "      <td>8.665128e+11</td>\n",
              "      <td>1.155773e+12</td>\n",
              "      <td>354.841279</td>\n",
              "      <td>463.942320</td>\n",
              "    </tr>\n",
              "    <tr>\n",
              "      <th>2011-06-10</th>\n",
              "      <td>BAJFINANCE</td>\n",
              "      <td>EQ</td>\n",
              "      <td>631.10</td>\n",
              "      <td>641.85</td>\n",
              "      <td>648.25</td>\n",
              "      <td>618.55</td>\n",
              "      <td>621.10</td>\n",
              "      <td>622.20</td>\n",
              "      <td>634.16</td>\n",
              "      <td>30885</td>\n",
              "      <td>...</td>\n",
              "      <td>1.639360</td>\n",
              "      <td>8.227994</td>\n",
              "      <td>13.030765</td>\n",
              "      <td>9.501961</td>\n",
              "      <td>2434.970705</td>\n",
              "      <td>18047.331029</td>\n",
              "      <td>1.579562e+11</td>\n",
              "      <td>1.136003e+12</td>\n",
              "      <td>272.875429</td>\n",
              "      <td>448.020620</td>\n",
              "    </tr>\n",
              "    <tr>\n",
              "      <th>2011-06-13</th>\n",
              "      <td>BAJFINANCE</td>\n",
              "      <td>EQ</td>\n",
              "      <td>622.20</td>\n",
              "      <td>616.00</td>\n",
              "      <td>627.85</td>\n",
              "      <td>616.00</td>\n",
              "      <td>622.75</td>\n",
              "      <td>624.95</td>\n",
              "      <td>622.92</td>\n",
              "      <td>3981</td>\n",
              "      <td>...</td>\n",
              "      <td>11.434196</td>\n",
              "      <td>9.497080</td>\n",
              "      <td>7.456597</td>\n",
              "      <td>9.298317</td>\n",
              "      <td>15640.051929</td>\n",
              "      <td>17835.642665</td>\n",
              "      <td>9.982094e+11</td>\n",
              "      <td>1.123423e+12</td>\n",
              "      <td>557.373603</td>\n",
              "      <td>464.778596</td>\n",
              "    </tr>\n",
              "    <tr>\n",
              "      <th>2011-06-14</th>\n",
              "      <td>BAJFINANCE</td>\n",
              "      <td>EQ</td>\n",
              "      <td>624.95</td>\n",
              "      <td>625.00</td>\n",
              "      <td>628.95</td>\n",
              "      <td>619.95</td>\n",
              "      <td>621.20</td>\n",
              "      <td>622.10</td>\n",
              "      <td>625.35</td>\n",
              "      <td>5597</td>\n",
              "      <td>...</td>\n",
              "      <td>11.473593</td>\n",
              "      <td>10.198891</td>\n",
              "      <td>2.002707</td>\n",
              "      <td>9.293713</td>\n",
              "      <td>15088.183102</td>\n",
              "      <td>13139.472184</td>\n",
              "      <td>9.595224e+11</td>\n",
              "      <td>8.397765e+11</td>\n",
              "      <td>656.385050</td>\n",
              "      <td>455.234163</td>\n",
              "    </tr>\n",
              "    <tr>\n",
              "      <th>2011-06-15</th>\n",
              "      <td>BAJFINANCE</td>\n",
              "      <td>EQ</td>\n",
              "      <td>622.10</td>\n",
              "      <td>612.00</td>\n",
              "      <td>623.00</td>\n",
              "      <td>598.10</td>\n",
              "      <td>605.00</td>\n",
              "      <td>601.70</td>\n",
              "      <td>606.90</td>\n",
              "      <td>12590</td>\n",
              "      <td>...</td>\n",
              "      <td>3.165833</td>\n",
              "      <td>11.352292</td>\n",
              "      <td>11.643560</td>\n",
              "      <td>11.262712</td>\n",
              "      <td>4575.812970</td>\n",
              "      <td>12469.137006</td>\n",
              "      <td>2.733211e+11</td>\n",
              "      <td>7.983186e+11</td>\n",
              "      <td>150.639747</td>\n",
              "      <td>436.941971</td>\n",
              "    </tr>\n",
              "  </tbody>\n",
              "</table>\n",
              "<p>5 rows × 34 columns</p>\n",
              "</div>\n",
              "      <button class=\"colab-df-convert\" onclick=\"convertToInteractive('df-be735b95-a71f-43cd-8357-ec70b472efb7')\"\n",
              "              title=\"Convert this dataframe to an interactive table.\"\n",
              "              style=\"display:none;\">\n",
              "        \n",
              "  <svg xmlns=\"http://www.w3.org/2000/svg\" height=\"24px\"viewBox=\"0 0 24 24\"\n",
              "       width=\"24px\">\n",
              "    <path d=\"M0 0h24v24H0V0z\" fill=\"none\"/>\n",
              "    <path d=\"M18.56 5.44l.94 2.06.94-2.06 2.06-.94-2.06-.94-.94-2.06-.94 2.06-2.06.94zm-11 1L8.5 8.5l.94-2.06 2.06-.94-2.06-.94L8.5 2.5l-.94 2.06-2.06.94zm10 10l.94 2.06.94-2.06 2.06-.94-2.06-.94-.94-2.06-.94 2.06-2.06.94z\"/><path d=\"M17.41 7.96l-1.37-1.37c-.4-.4-.92-.59-1.43-.59-.52 0-1.04.2-1.43.59L10.3 9.45l-7.72 7.72c-.78.78-.78 2.05 0 2.83L4 21.41c.39.39.9.59 1.41.59.51 0 1.02-.2 1.41-.59l7.78-7.78 2.81-2.81c.8-.78.8-2.07 0-2.86zM5.41 20L4 18.59l7.72-7.72 1.47 1.35L5.41 20z\"/>\n",
              "  </svg>\n",
              "      </button>\n",
              "      \n",
              "  <style>\n",
              "    .colab-df-container {\n",
              "      display:flex;\n",
              "      flex-wrap:wrap;\n",
              "      gap: 12px;\n",
              "    }\n",
              "\n",
              "    .colab-df-convert {\n",
              "      background-color: #E8F0FE;\n",
              "      border: none;\n",
              "      border-radius: 50%;\n",
              "      cursor: pointer;\n",
              "      display: none;\n",
              "      fill: #1967D2;\n",
              "      height: 32px;\n",
              "      padding: 0 0 0 0;\n",
              "      width: 32px;\n",
              "    }\n",
              "\n",
              "    .colab-df-convert:hover {\n",
              "      background-color: #E2EBFA;\n",
              "      box-shadow: 0px 1px 2px rgba(60, 64, 67, 0.3), 0px 1px 3px 1px rgba(60, 64, 67, 0.15);\n",
              "      fill: #174EA6;\n",
              "    }\n",
              "\n",
              "    [theme=dark] .colab-df-convert {\n",
              "      background-color: #3B4455;\n",
              "      fill: #D2E3FC;\n",
              "    }\n",
              "\n",
              "    [theme=dark] .colab-df-convert:hover {\n",
              "      background-color: #434B5C;\n",
              "      box-shadow: 0px 1px 3px 1px rgba(0, 0, 0, 0.15);\n",
              "      filter: drop-shadow(0px 1px 2px rgba(0, 0, 0, 0.3));\n",
              "      fill: #FFFFFF;\n",
              "    }\n",
              "  </style>\n",
              "\n",
              "      <script>\n",
              "        const buttonEl =\n",
              "          document.querySelector('#df-be735b95-a71f-43cd-8357-ec70b472efb7 button.colab-df-convert');\n",
              "        buttonEl.style.display =\n",
              "          google.colab.kernel.accessAllowed ? 'block' : 'none';\n",
              "\n",
              "        async function convertToInteractive(key) {\n",
              "          const element = document.querySelector('#df-be735b95-a71f-43cd-8357-ec70b472efb7');\n",
              "          const dataTable =\n",
              "            await google.colab.kernel.invokeFunction('convertToInteractive',\n",
              "                                                     [key], {});\n",
              "          if (!dataTable) return;\n",
              "\n",
              "          const docLinkHtml = 'Like what you see? Visit the ' +\n",
              "            '<a target=\"_blank\" href=https://colab.research.google.com/notebooks/data_table.ipynb>data table notebook</a>'\n",
              "            + ' to learn more about interactive tables.';\n",
              "          element.innerHTML = '';\n",
              "          dataTable['output_type'] = 'display_data';\n",
              "          await google.colab.output.renderOutput(dataTable, element);\n",
              "          const docLink = document.createElement('div');\n",
              "          docLink.innerHTML = docLinkHtml;\n",
              "          element.appendChild(docLink);\n",
              "        }\n",
              "      </script>\n",
              "    </div>\n",
              "  </div>\n",
              "  "
            ]
          },
          "metadata": {},
          "execution_count": 26
        }
      ],
      "source": [
        "training_data.head()"
      ]
    },
    {
      "cell_type": "code",
      "execution_count": 27,
      "id": "5a1fbe94",
      "metadata": {
        "colab": {
          "base_uri": "https://localhost:8080/"
        },
        "id": "5a1fbe94",
        "outputId": "c25fa2b3-aaf0-42bb-97f8-6e85c973ed81"
      },
      "outputs": [
        {
          "output_type": "stream",
          "name": "stdout",
          "text": [
            "Looking in indexes: https://pypi.org/simple, https://us-python.pkg.dev/colab-wheels/public/simple/\n",
            "Collecting pmdarima\n",
            "  Downloading pmdarima-2.0.1-cp37-cp37m-manylinux_2_17_x86_64.manylinux2014_x86_64.manylinux_2_28_x86_64.whl (1.8 MB)\n",
            "\u001b[K     |████████████████████████████████| 1.8 MB 5.3 MB/s \n",
            "\u001b[?25hRequirement already satisfied: urllib3 in /usr/local/lib/python3.7/dist-packages (from pmdarima) (1.24.3)\n",
            "Requirement already satisfied: joblib>=0.11 in /usr/local/lib/python3.7/dist-packages (from pmdarima) (1.1.0)\n",
            "Requirement already satisfied: pandas>=0.19 in /usr/local/lib/python3.7/dist-packages (from pmdarima) (1.3.5)\n",
            "Requirement already satisfied: numpy>=1.21 in /usr/local/lib/python3.7/dist-packages (from pmdarima) (1.21.6)\n",
            "Requirement already satisfied: scipy>=1.3.2 in /usr/local/lib/python3.7/dist-packages (from pmdarima) (1.7.3)\n",
            "Requirement already satisfied: setuptools!=50.0.0,>=38.6.0 in /usr/local/lib/python3.7/dist-packages (from pmdarima) (57.4.0)\n",
            "Requirement already satisfied: Cython!=0.29.18,!=0.29.31,>=0.29 in /usr/local/lib/python3.7/dist-packages (from pmdarima) (0.29.32)\n",
            "Collecting statsmodels>=0.13.2\n",
            "  Downloading statsmodels-0.13.2-cp37-cp37m-manylinux_2_17_x86_64.manylinux2014_x86_64.whl (9.8 MB)\n",
            "\u001b[K     |████████████████████████████████| 9.8 MB 31.9 MB/s \n",
            "\u001b[?25hRequirement already satisfied: scikit-learn>=0.22 in /usr/local/lib/python3.7/dist-packages (from pmdarima) (1.0.2)\n",
            "Requirement already satisfied: python-dateutil>=2.7.3 in /usr/local/lib/python3.7/dist-packages (from pandas>=0.19->pmdarima) (2.8.2)\n",
            "Requirement already satisfied: pytz>=2017.3 in /usr/local/lib/python3.7/dist-packages (from pandas>=0.19->pmdarima) (2022.2.1)\n",
            "Requirement already satisfied: six>=1.5 in /usr/local/lib/python3.7/dist-packages (from python-dateutil>=2.7.3->pandas>=0.19->pmdarima) (1.15.0)\n",
            "Requirement already satisfied: threadpoolctl>=2.0.0 in /usr/local/lib/python3.7/dist-packages (from scikit-learn>=0.22->pmdarima) (3.1.0)\n",
            "Requirement already satisfied: patsy>=0.5.2 in /usr/local/lib/python3.7/dist-packages (from statsmodels>=0.13.2->pmdarima) (0.5.2)\n",
            "Requirement already satisfied: packaging>=21.3 in /usr/local/lib/python3.7/dist-packages (from statsmodels>=0.13.2->pmdarima) (21.3)\n",
            "Requirement already satisfied: pyparsing!=3.0.5,>=2.0.2 in /usr/local/lib/python3.7/dist-packages (from packaging>=21.3->statsmodels>=0.13.2->pmdarima) (3.0.9)\n",
            "Installing collected packages: statsmodels, pmdarima\n",
            "  Attempting uninstall: statsmodels\n",
            "    Found existing installation: statsmodels 0.12.2\n",
            "    Uninstalling statsmodels-0.12.2:\n",
            "      Successfully uninstalled statsmodels-0.12.2\n",
            "Successfully installed pmdarima-2.0.1 statsmodels-0.13.2\n"
          ]
        }
      ],
      "source": [
        "!pip install pmdarima"
      ]
    },
    {
      "cell_type": "code",
      "execution_count": 28,
      "id": "16f59a6f",
      "metadata": {
        "id": "16f59a6f"
      },
      "outputs": [],
      "source": [
        "from pmdarima import auto_arima"
      ]
    },
    {
      "cell_type": "code",
      "execution_count": 29,
      "id": "4ebc32ea",
      "metadata": {
        "id": "4ebc32ea"
      },
      "outputs": [],
      "source": [
        "import warnings\n",
        "warnings.filterwarnings('ignore')"
      ]
    },
    {
      "cell_type": "code",
      "execution_count": 30,
      "id": "280a4b2e",
      "metadata": {
        "colab": {
          "base_uri": "https://localhost:8080/"
        },
        "id": "280a4b2e",
        "outputId": "3e9b1e82-cd21-492b-f3e1-68d5895ba834"
      },
      "outputs": [
        {
          "output_type": "stream",
          "name": "stdout",
          "text": [
            "Performing stepwise search to minimize aic\n",
            " ARIMA(2,1,2)(0,0,0)[0] intercept   : AIC=inf, Time=3.92 sec\n",
            " ARIMA(0,1,0)(0,0,0)[0] intercept   : AIC=25013.840, Time=0.08 sec\n",
            " ARIMA(1,1,0)(0,0,0)[0] intercept   : AIC=25015.795, Time=0.06 sec\n",
            " ARIMA(0,1,1)(0,0,0)[0] intercept   : AIC=25015.799, Time=0.10 sec\n",
            " ARIMA(0,1,0)(0,0,0)[0]             : AIC=25011.876, Time=0.05 sec\n",
            " ARIMA(1,1,1)(0,0,0)[0] intercept   : AIC=inf, Time=1.63 sec\n",
            "\n",
            "Best model:  ARIMA(0,1,0)(0,0,0)[0]          \n",
            "Total fit time: 5.878 seconds\n"
          ]
        }
      ],
      "source": [
        "model=auto_arima(y=training_data['VWAP'],exogenous=training_data[ind_features],trace=True)"
      ]
    },
    {
      "cell_type": "code",
      "execution_count": 31,
      "id": "3982a0c9",
      "metadata": {
        "colab": {
          "base_uri": "https://localhost:8080/"
        },
        "id": "3982a0c9",
        "outputId": "064c894d-e5d6-4f3a-9076-8f10b733d82d"
      },
      "outputs": [
        {
          "output_type": "execute_result",
          "data": {
            "text/plain": [
              "ARIMA(order=(0, 1, 0), scoring_args={}, suppress_warnings=True,\n",
              "      with_intercept=False)"
            ]
          },
          "metadata": {},
          "execution_count": 31
        }
      ],
      "source": [
        "model.fit(training_data['VWAP'],training_data[ind_features])"
      ]
    },
    {
      "cell_type": "code",
      "execution_count": 32,
      "id": "703c21b3",
      "metadata": {
        "colab": {
          "base_uri": "https://localhost:8080/",
          "height": 311
        },
        "id": "703c21b3",
        "outputId": "c72eecba-046f-454a-d71b-e7cb08d432fe"
      },
      "outputs": [
        {
          "output_type": "error",
          "ename": "ValueError",
          "evalue": "ignored",
          "traceback": [
            "\u001b[0;31m---------------------------------------------------------------------------\u001b[0m",
            "\u001b[0;31mValueError\u001b[0m                                Traceback (most recent call last)",
            "\u001b[0;32m<ipython-input-32-1deb705a2f35>\u001b[0m in \u001b[0;36m<module>\u001b[0;34m\u001b[0m\n\u001b[0;32m----> 1\u001b[0;31m \u001b[0mforecast\u001b[0m\u001b[0;34m=\u001b[0m\u001b[0mmodel\u001b[0m\u001b[0;34m.\u001b[0m\u001b[0mpredict\u001b[0m\u001b[0;34m(\u001b[0m\u001b[0mn_periods\u001b[0m\u001b[0;34m=\u001b[0m\u001b[0mlen\u001b[0m\u001b[0;34m(\u001b[0m\u001b[0mtest_data\u001b[0m\u001b[0;34m)\u001b[0m\u001b[0;34m,\u001b[0m \u001b[0mexogenous\u001b[0m\u001b[0;34m=\u001b[0m\u001b[0mtest_data\u001b[0m\u001b[0;34m[\u001b[0m\u001b[0mind_features\u001b[0m\u001b[0;34m]\u001b[0m\u001b[0;34m)\u001b[0m\u001b[0;34m\u001b[0m\u001b[0;34m\u001b[0m\u001b[0m\n\u001b[0m",
            "\u001b[0;32m/usr/local/lib/python3.7/dist-packages/pmdarima/arima/arima.py\u001b[0m in \u001b[0;36mpredict\u001b[0;34m(self, n_periods, X, return_conf_int, alpha, **kwargs)\u001b[0m\n\u001b[1;32m    783\u001b[0m \u001b[0;34m\u001b[0m\u001b[0m\n\u001b[1;32m    784\u001b[0m         \u001b[0;31m# if we fit with exog, make sure one was passed:\u001b[0m\u001b[0;34m\u001b[0m\u001b[0;34m\u001b[0m\u001b[0;34m\u001b[0m\u001b[0m\n\u001b[0;32m--> 785\u001b[0;31m         \u001b[0mX\u001b[0m \u001b[0;34m=\u001b[0m \u001b[0mself\u001b[0m\u001b[0;34m.\u001b[0m\u001b[0m_check_exog\u001b[0m\u001b[0;34m(\u001b[0m\u001b[0mX\u001b[0m\u001b[0;34m)\u001b[0m  \u001b[0;31m# type: np.ndarray\u001b[0m\u001b[0;34m\u001b[0m\u001b[0;34m\u001b[0m\u001b[0m\n\u001b[0m\u001b[1;32m    786\u001b[0m         \u001b[0;32mif\u001b[0m \u001b[0mX\u001b[0m \u001b[0;32mis\u001b[0m \u001b[0;32mnot\u001b[0m \u001b[0;32mNone\u001b[0m \u001b[0;32mand\u001b[0m \u001b[0mX\u001b[0m\u001b[0;34m.\u001b[0m\u001b[0mshape\u001b[0m\u001b[0;34m[\u001b[0m\u001b[0;36m0\u001b[0m\u001b[0;34m]\u001b[0m \u001b[0;34m!=\u001b[0m \u001b[0mn_periods\u001b[0m\u001b[0;34m:\u001b[0m\u001b[0;34m\u001b[0m\u001b[0;34m\u001b[0m\u001b[0m\n\u001b[1;32m    787\u001b[0m             \u001b[0;32mraise\u001b[0m \u001b[0mValueError\u001b[0m\u001b[0;34m(\u001b[0m\u001b[0;34m'X array dims (n_rows) != n_periods'\u001b[0m\u001b[0;34m)\u001b[0m\u001b[0;34m\u001b[0m\u001b[0;34m\u001b[0m\u001b[0m\n",
            "\u001b[0;32m/usr/local/lib/python3.7/dist-packages/pmdarima/arima/arima.py\u001b[0m in \u001b[0;36m_check_exog\u001b[0;34m(self, X)\u001b[0m\n\u001b[1;32m    627\u001b[0m         \u001b[0;32mif\u001b[0m \u001b[0mself\u001b[0m\u001b[0;34m.\u001b[0m\u001b[0mfit_with_exog_\u001b[0m\u001b[0;34m:\u001b[0m\u001b[0;34m\u001b[0m\u001b[0;34m\u001b[0m\u001b[0m\n\u001b[1;32m    628\u001b[0m             \u001b[0;32mif\u001b[0m \u001b[0mX\u001b[0m \u001b[0;32mis\u001b[0m \u001b[0;32mNone\u001b[0m\u001b[0;34m:\u001b[0m\u001b[0;34m\u001b[0m\u001b[0;34m\u001b[0m\u001b[0m\n\u001b[0;32m--> 629\u001b[0;31m                 raise ValueError('When an ARIMA is fit with an X '\n\u001b[0m\u001b[1;32m    630\u001b[0m                                  \u001b[0;34m'array, it must also be provided one for '\u001b[0m\u001b[0;34m\u001b[0m\u001b[0;34m\u001b[0m\u001b[0m\n\u001b[1;32m    631\u001b[0m                                  'predicting or updating observations.')\n",
            "\u001b[0;31mValueError\u001b[0m: When an ARIMA is fit with an X array, it must also be provided one for predicting or updating observations."
          ]
        }
      ],
      "source": [
        "forecast=model.predict(n_periods=len(test_data), exogenous=test_data[ind_features])"
      ]
    },
    {
      "cell_type": "code",
      "execution_count": 33,
      "id": "0b142e29",
      "metadata": {
        "colab": {
          "base_uri": "https://localhost:8080/",
          "height": 165
        },
        "id": "0b142e29",
        "outputId": "eff142dd-9d95-47d8-9bdf-41b6b3a5301b"
      },
      "outputs": [
        {
          "output_type": "error",
          "ename": "NameError",
          "evalue": "ignored",
          "traceback": [
            "\u001b[0;31m---------------------------------------------------------------------------\u001b[0m",
            "\u001b[0;31mNameError\u001b[0m                                 Traceback (most recent call last)",
            "\u001b[0;32m<ipython-input-33-5aacccf561f5>\u001b[0m in \u001b[0;36m<module>\u001b[0;34m\u001b[0m\n\u001b[0;32m----> 1\u001b[0;31m \u001b[0mtest_data\u001b[0m\u001b[0;34m[\u001b[0m\u001b[0;34m'Forecast_ARIMA'\u001b[0m\u001b[0;34m]\u001b[0m\u001b[0;34m=\u001b[0m\u001b[0mforecast\u001b[0m\u001b[0;34m\u001b[0m\u001b[0;34m\u001b[0m\u001b[0m\n\u001b[0m",
            "\u001b[0;31mNameError\u001b[0m: name 'forecast' is not defined"
          ]
        }
      ],
      "source": [
        "test_data['Forecast_ARIMA']=forecast"
      ]
    },
    {
      "cell_type": "code",
      "execution_count": 34,
      "id": "898d3ab5",
      "metadata": {
        "colab": {
          "base_uri": "https://localhost:8080/",
          "height": 311
        },
        "id": "898d3ab5",
        "outputId": "18a03eb7-33b0-4cc1-d976-deef3d047582"
      },
      "outputs": [
        {
          "output_type": "error",
          "ename": "KeyError",
          "evalue": "ignored",
          "traceback": [
            "\u001b[0;31m---------------------------------------------------------------------------\u001b[0m",
            "\u001b[0;31mKeyError\u001b[0m                                  Traceback (most recent call last)",
            "\u001b[0;32m<ipython-input-34-c80d9e3a238f>\u001b[0m in \u001b[0;36m<module>\u001b[0;34m\u001b[0m\n\u001b[0;32m----> 1\u001b[0;31m \u001b[0mtest_data\u001b[0m\u001b[0;34m[\u001b[0m\u001b[0;34m[\u001b[0m\u001b[0;34m'VWAP'\u001b[0m\u001b[0;34m,\u001b[0m\u001b[0;34m'Forecast_ARIMA'\u001b[0m\u001b[0;34m]\u001b[0m\u001b[0;34m]\u001b[0m\u001b[0;34m.\u001b[0m\u001b[0mplot\u001b[0m\u001b[0;34m(\u001b[0m\u001b[0mfigsize\u001b[0m\u001b[0;34m=\u001b[0m\u001b[0;34m(\u001b[0m\u001b[0;36m24\u001b[0m\u001b[0;34m,\u001b[0m\u001b[0;36m14\u001b[0m\u001b[0;34m)\u001b[0m\u001b[0;34m)\u001b[0m\u001b[0;34m\u001b[0m\u001b[0;34m\u001b[0m\u001b[0m\n\u001b[0m",
            "\u001b[0;32m/usr/local/lib/python3.7/dist-packages/pandas/core/frame.py\u001b[0m in \u001b[0;36m__getitem__\u001b[0;34m(self, key)\u001b[0m\n\u001b[1;32m   3462\u001b[0m             \u001b[0;32mif\u001b[0m \u001b[0mis_iterator\u001b[0m\u001b[0;34m(\u001b[0m\u001b[0mkey\u001b[0m\u001b[0;34m)\u001b[0m\u001b[0;34m:\u001b[0m\u001b[0;34m\u001b[0m\u001b[0;34m\u001b[0m\u001b[0m\n\u001b[1;32m   3463\u001b[0m                 \u001b[0mkey\u001b[0m \u001b[0;34m=\u001b[0m \u001b[0mlist\u001b[0m\u001b[0;34m(\u001b[0m\u001b[0mkey\u001b[0m\u001b[0;34m)\u001b[0m\u001b[0;34m\u001b[0m\u001b[0;34m\u001b[0m\u001b[0m\n\u001b[0;32m-> 3464\u001b[0;31m             \u001b[0mindexer\u001b[0m \u001b[0;34m=\u001b[0m \u001b[0mself\u001b[0m\u001b[0;34m.\u001b[0m\u001b[0mloc\u001b[0m\u001b[0;34m.\u001b[0m\u001b[0m_get_listlike_indexer\u001b[0m\u001b[0;34m(\u001b[0m\u001b[0mkey\u001b[0m\u001b[0;34m,\u001b[0m \u001b[0maxis\u001b[0m\u001b[0;34m=\u001b[0m\u001b[0;36m1\u001b[0m\u001b[0;34m)\u001b[0m\u001b[0;34m[\u001b[0m\u001b[0;36m1\u001b[0m\u001b[0;34m]\u001b[0m\u001b[0;34m\u001b[0m\u001b[0;34m\u001b[0m\u001b[0m\n\u001b[0m\u001b[1;32m   3465\u001b[0m \u001b[0;34m\u001b[0m\u001b[0m\n\u001b[1;32m   3466\u001b[0m         \u001b[0;31m# take() does not accept boolean indexers\u001b[0m\u001b[0;34m\u001b[0m\u001b[0;34m\u001b[0m\u001b[0;34m\u001b[0m\u001b[0m\n",
            "\u001b[0;32m/usr/local/lib/python3.7/dist-packages/pandas/core/indexing.py\u001b[0m in \u001b[0;36m_get_listlike_indexer\u001b[0;34m(self, key, axis)\u001b[0m\n\u001b[1;32m   1312\u001b[0m             \u001b[0mkeyarr\u001b[0m\u001b[0;34m,\u001b[0m \u001b[0mindexer\u001b[0m\u001b[0;34m,\u001b[0m \u001b[0mnew_indexer\u001b[0m \u001b[0;34m=\u001b[0m \u001b[0max\u001b[0m\u001b[0;34m.\u001b[0m\u001b[0m_reindex_non_unique\u001b[0m\u001b[0;34m(\u001b[0m\u001b[0mkeyarr\u001b[0m\u001b[0;34m)\u001b[0m\u001b[0;34m\u001b[0m\u001b[0;34m\u001b[0m\u001b[0m\n\u001b[1;32m   1313\u001b[0m \u001b[0;34m\u001b[0m\u001b[0m\n\u001b[0;32m-> 1314\u001b[0;31m         \u001b[0mself\u001b[0m\u001b[0;34m.\u001b[0m\u001b[0m_validate_read_indexer\u001b[0m\u001b[0;34m(\u001b[0m\u001b[0mkeyarr\u001b[0m\u001b[0;34m,\u001b[0m \u001b[0mindexer\u001b[0m\u001b[0;34m,\u001b[0m \u001b[0maxis\u001b[0m\u001b[0;34m)\u001b[0m\u001b[0;34m\u001b[0m\u001b[0;34m\u001b[0m\u001b[0m\n\u001b[0m\u001b[1;32m   1315\u001b[0m \u001b[0;34m\u001b[0m\u001b[0m\n\u001b[1;32m   1316\u001b[0m         if needs_i8_conversion(ax.dtype) or isinstance(\n",
            "\u001b[0;32m/usr/local/lib/python3.7/dist-packages/pandas/core/indexing.py\u001b[0m in \u001b[0;36m_validate_read_indexer\u001b[0;34m(self, key, indexer, axis)\u001b[0m\n\u001b[1;32m   1375\u001b[0m \u001b[0;34m\u001b[0m\u001b[0m\n\u001b[1;32m   1376\u001b[0m             \u001b[0mnot_found\u001b[0m \u001b[0;34m=\u001b[0m \u001b[0mlist\u001b[0m\u001b[0;34m(\u001b[0m\u001b[0mensure_index\u001b[0m\u001b[0;34m(\u001b[0m\u001b[0mkey\u001b[0m\u001b[0;34m)\u001b[0m\u001b[0;34m[\u001b[0m\u001b[0mmissing_mask\u001b[0m\u001b[0;34m.\u001b[0m\u001b[0mnonzero\u001b[0m\u001b[0;34m(\u001b[0m\u001b[0;34m)\u001b[0m\u001b[0;34m[\u001b[0m\u001b[0;36m0\u001b[0m\u001b[0;34m]\u001b[0m\u001b[0;34m]\u001b[0m\u001b[0;34m.\u001b[0m\u001b[0munique\u001b[0m\u001b[0;34m(\u001b[0m\u001b[0;34m)\u001b[0m\u001b[0;34m)\u001b[0m\u001b[0;34m\u001b[0m\u001b[0;34m\u001b[0m\u001b[0m\n\u001b[0;32m-> 1377\u001b[0;31m             \u001b[0;32mraise\u001b[0m \u001b[0mKeyError\u001b[0m\u001b[0;34m(\u001b[0m\u001b[0;34mf\"{not_found} not in index\"\u001b[0m\u001b[0;34m)\u001b[0m\u001b[0;34m\u001b[0m\u001b[0;34m\u001b[0m\u001b[0m\n\u001b[0m\u001b[1;32m   1378\u001b[0m \u001b[0;34m\u001b[0m\u001b[0m\n\u001b[1;32m   1379\u001b[0m \u001b[0;34m\u001b[0m\u001b[0m\n",
            "\u001b[0;31mKeyError\u001b[0m: \"['Forecast_ARIMA'] not in index\""
          ]
        }
      ],
      "source": [
        "test_data[['VWAP','Forecast_ARIMA']].plot(figsize=(24,14))"
      ]
    },
    {
      "cell_type": "code",
      "execution_count": null,
      "id": "77e5a5ab",
      "metadata": {
        "id": "77e5a5ab"
      },
      "outputs": [],
      "source": [
        " y_1 = pd.test_data(columns = ['VWAP'])"
      ]
    },
    {
      "cell_type": "code",
      "execution_count": null,
      "id": "e59a4236",
      "metadata": {
        "id": "e59a4236"
      },
      "outputs": [],
      "source": []
    },
    {
      "cell_type": "code",
      "execution_count": null,
      "id": "c8421abf",
      "metadata": {
        "id": "c8421abf"
      },
      "outputs": [],
      "source": []
    },
    {
      "cell_type": "code",
      "execution_count": null,
      "id": "01c0e0b8",
      "metadata": {
        "id": "01c0e0b8"
      },
      "outputs": [],
      "source": []
    },
    {
      "cell_type": "code",
      "execution_count": null,
      "id": "f05d4355",
      "metadata": {
        "id": "f05d4355"
      },
      "outputs": [],
      "source": []
    },
    {
      "cell_type": "code",
      "execution_count": null,
      "id": "03bd7254",
      "metadata": {
        "id": "03bd7254"
      },
      "outputs": [],
      "source": []
    },
    {
      "cell_type": "code",
      "execution_count": null,
      "id": "0ae001ef",
      "metadata": {
        "id": "0ae001ef"
      },
      "outputs": [],
      "source": []
    },
    {
      "cell_type": "code",
      "execution_count": null,
      "id": "e3ffcc2f",
      "metadata": {
        "id": "e3ffcc2f"
      },
      "outputs": [],
      "source": []
    },
    {
      "cell_type": "code",
      "execution_count": null,
      "id": "626a8830",
      "metadata": {
        "id": "626a8830"
      },
      "outputs": [],
      "source": []
    },
    {
      "cell_type": "markdown",
      "id": "b64ec175",
      "metadata": {
        "id": "b64ec175"
      },
      "source": [
        "The prediction for the time series is good and the ARIMA made a good job in prediction"
      ]
    },
    {
      "cell_type": "markdown",
      "id": "69537153",
      "metadata": {
        "id": "69537153"
      },
      "source": [
        "checking accuracy of the model "
      ]
    },
    {
      "cell_type": "code",
      "execution_count": null,
      "id": "191fae9f",
      "metadata": {
        "id": "191fae9f"
      },
      "outputs": [],
      "source": [
        "from sklearn.metrics import mean_absolute_error, mean_squared_error\n",
        "from sklearn.metrics import confusion_matrix,accuracy_score"
      ]
    },
    {
      "cell_type": "code",
      "execution_count": null,
      "id": "ecb426bf",
      "metadata": {
        "id": "ecb426bf"
      },
      "outputs": [],
      "source": [
        "cm=confusion_matrix(test_data['VWAP'],test_data['Forecast_ARIMA'])\n",
        "print(cm)\n",
        "accuracy_score(test_data['VWAP'],test_data['Forecast_ARIMA'])"
      ]
    },
    {
      "cell_type": "code",
      "execution_count": null,
      "id": "49c41bf5",
      "metadata": {
        "id": "49c41bf5"
      },
      "outputs": [],
      "source": []
    },
    {
      "cell_type": "code",
      "execution_count": null,
      "id": "299ce135",
      "metadata": {
        "id": "299ce135"
      },
      "outputs": [],
      "source": []
    },
    {
      "cell_type": "code",
      "execution_count": null,
      "id": "ec93ba74",
      "metadata": {
        "id": "ec93ba74"
      },
      "outputs": [],
      "source": []
    },
    {
      "cell_type": "code",
      "execution_count": null,
      "id": "22ea0acd",
      "metadata": {
        "id": "22ea0acd"
      },
      "outputs": [],
      "source": [
        "np.sqrt(mean_squared_error(test_data['VWAP'],test_data['Forecast_ARIMA']))"
      ]
    },
    {
      "cell_type": "code",
      "execution_count": null,
      "id": "6341fb31",
      "metadata": {
        "id": "6341fb31"
      },
      "outputs": [],
      "source": [
        "mean_absolute_error(test_data['VWAP'],test_data['Forecast_ARIMA'])"
      ]
    },
    {
      "cell_type": "code",
      "execution_count": null,
      "id": "8dfd25c1",
      "metadata": {
        "id": "8dfd25c1"
      },
      "outputs": [],
      "source": []
    }
  ],
  "metadata": {
    "kernelspec": {
      "display_name": "Python 3",
      "language": "python",
      "name": "python3"
    },
    "language_info": {
      "codemirror_mode": {
        "name": "ipython",
        "version": 3
      },
      "file_extension": ".py",
      "mimetype": "text/x-python",
      "name": "python",
      "nbconvert_exporter": "python",
      "pygments_lexer": "ipython3",
      "version": "3.8.8"
    },
    "colab": {
      "provenance": [],
      "include_colab_link": true
    }
  },
  "nbformat": 4,
  "nbformat_minor": 5
}